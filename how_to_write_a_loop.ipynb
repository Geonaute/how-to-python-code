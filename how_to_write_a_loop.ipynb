{
  "nbformat": 4,
  "nbformat_minor": 0,
  "metadata": {
    "colab": {
      "name": "how-to-write-a-loop.ipynb",
      "provenance": [],
      "authorship_tag": "ABX9TyO6nQIg1BTg3PCbpp8aiCwf",
      "include_colab_link": true
    },
    "kernelspec": {
      "name": "python3",
      "display_name": "Python 3"
    }
  },
  "cells": [
    {
      "cell_type": "markdown",
      "metadata": {
        "id": "view-in-github",
        "colab_type": "text"
      },
      "source": [
        "<a href=\"https://colab.research.google.com/github/TheRenegadeCoder/how-to-python-code/blob/loops/how_to_write_a_loop.ipynb\" target=\"_parent\"><img src=\"https://colab.research.google.com/assets/colab-badge.svg\" alt=\"Open In Colab\"/></a>"
      ]
    },
    {
      "cell_type": "markdown",
      "metadata": {
        "id": "CE6ac5aIsb5K",
        "colab_type": "text"
      },
      "source": [
        "# How to Write a Loop Source Code\n",
        "by Jeremy Grifski of The Renegade Coder for the [How to Write a Loop](https://therenegadecoder.com/code/how-to-write-a-loop-in-python/) article"
      ]
    },
    {
      "cell_type": "markdown",
      "metadata": {
        "id": "yitmP7ONsq6K",
        "colab_type": "text"
      },
      "source": [
        "## Solutions"
      ]
    },
    {
      "cell_type": "markdown",
      "metadata": {
        "id": "DdrKy6u5sxw6",
        "colab_type": "text"
      },
      "source": [
        "Here, we'll look at all the solutions from the original article."
      ]
    },
    {
      "cell_type": "code",
      "metadata": {
        "id": "JNcqYrx9sWS5",
        "colab_type": "code",
        "colab": {
          "base_uri": "https://localhost:8080/",
          "height": 118
        },
        "outputId": "d50c8239-7c0d-4014-fca3-3ebb93b81e02"
      },
      "source": [
        "# Loop using recursion\n",
        "def recurse(i):\n",
        "    print(f'Input is {i}')\n",
        "    if i > 0:\n",
        "        recurse(i - 1)\n",
        "\n",
        "recurse(5)"
      ],
      "execution_count": 23,
      "outputs": [
        {
          "output_type": "stream",
          "text": [
            "Input is 5\n",
            "Input is 4\n",
            "Input is 3\n",
            "Input is 2\n",
            "Input is 1\n",
            "Input is 0\n"
          ],
          "name": "stdout"
        }
      ]
    },
    {
      "cell_type": "code",
      "metadata": {
        "id": "mvS-Z2UYtE-T",
        "colab_type": "code",
        "colab": {
          "base_uri": "https://localhost:8080/",
          "height": 118
        },
        "outputId": "97813741-de37-4e56-e1c7-8d514ae4bfd3"
      },
      "source": [
        "# Loop using a while loop\n",
        "i = 5\n",
        "while i >= 0:\n",
        "    print(f'Input is {i}')\n",
        "    i -= 1"
      ],
      "execution_count": 24,
      "outputs": [
        {
          "output_type": "stream",
          "text": [
            "Input is 5\n",
            "Input is 4\n",
            "Input is 3\n",
            "Input is 2\n",
            "Input is 1\n",
            "Input is 0\n"
          ],
          "name": "stdout"
        }
      ]
    },
    {
      "cell_type": "code",
      "metadata": {
        "id": "1B57ydaftMrB",
        "colab_type": "code",
        "colab": {
          "base_uri": "https://localhost:8080/",
          "height": 118
        },
        "outputId": "423ce10a-0e3b-4552-b2de-d1f704ecce96"
      },
      "source": [
        "# Loop using a for loop\n",
        "for i in range(5, -1, -1):\n",
        "    print(f'Input is {i}')"
      ],
      "execution_count": 25,
      "outputs": [
        {
          "output_type": "stream",
          "text": [
            "Input is 5\n",
            "Input is 4\n",
            "Input is 3\n",
            "Input is 2\n",
            "Input is 1\n",
            "Input is 0\n"
          ],
          "name": "stdout"
        }
      ]
    },
    {
      "cell_type": "markdown",
      "metadata": {
        "id": "ECfsN4ZTtSES",
        "colab_type": "text"
      },
      "source": [
        "## Performance"
      ]
    },
    {
      "cell_type": "markdown",
      "metadata": {
        "id": "NtKAq18ptWwK",
        "colab_type": "text"
      },
      "source": [
        "Here, we'll look at the performance code from the original article."
      ]
    },
    {
      "cell_type": "code",
      "metadata": {
        "id": "IGEB5JsctTzL",
        "colab_type": "code",
        "colab": {}
      },
      "source": [
        "# Import performance testing library\n",
        "import timeit\n",
        "\n",
        "# Generate test strings\n",
        "setup = \"\"\"\n",
        "def recurse(i):\n",
        "    # Removed print for sanity\n",
        "    if i > 0:\n",
        "        recurse(i - 1)\n",
        "\"\"\"\n",
        "\n",
        "recursion = \"\"\"\n",
        "recurse(5)\n",
        "\"\"\"\n",
        "\n",
        "while_loop = \"\"\"\n",
        "i = 5\n",
        "while i >= 0:\n",
        "    # Removed print for sanity\n",
        "    i -= 1\n",
        "\"\"\"\n",
        "\n",
        "for_loop = \"\"\"\n",
        "for i in range(5, -1, -1):\n",
        "    pass  # Removed print for sanity\n",
        "\"\"\""
      ],
      "execution_count": 0,
      "outputs": []
    },
    {
      "cell_type": "code",
      "metadata": {
        "id": "c5F_PEXDttQz",
        "colab_type": "code",
        "colab": {
          "base_uri": "https://localhost:8080/",
          "height": 34
        },
        "outputId": "b4ec76b7-5f5e-429a-da84-9d821453e04e"
      },
      "source": [
        "min(timeit.repeat(setup=setup, stmt=recursion))"
      ],
      "execution_count": 27,
      "outputs": [
        {
          "output_type": "execute_result",
          "data": {
            "text/plain": [
              "0.7599358280000388"
            ]
          },
          "metadata": {
            "tags": []
          },
          "execution_count": 27
        }
      ]
    },
    {
      "cell_type": "code",
      "metadata": {
        "id": "zhNyN7w3twLb",
        "colab_type": "code",
        "colab": {
          "base_uri": "https://localhost:8080/",
          "height": 34
        },
        "outputId": "c3a9041a-a8fa-4d5d-d57d-69b104621600"
      },
      "source": [
        "min(timeit.repeat(setup=setup, stmt=while_loop))"
      ],
      "execution_count": 28,
      "outputs": [
        {
          "output_type": "execute_result",
          "data": {
            "text/plain": [
              "0.29169029500008037"
            ]
          },
          "metadata": {
            "tags": []
          },
          "execution_count": 28
        }
      ]
    },
    {
      "cell_type": "code",
      "metadata": {
        "id": "juRmv3thtyki",
        "colab_type": "code",
        "colab": {
          "base_uri": "https://localhost:8080/",
          "height": 34
        },
        "outputId": "116ecebb-73e7-4d6e-e438-0635b93b276d"
      },
      "source": [
        "min(timeit.repeat(setup=setup, stmt=for_loop))"
      ],
      "execution_count": 29,
      "outputs": [
        {
          "output_type": "execute_result",
          "data": {
            "text/plain": [
              "0.325777546999916"
            ]
          },
          "metadata": {
            "tags": []
          },
          "execution_count": 29
        }
      ]
    }
  ]
}